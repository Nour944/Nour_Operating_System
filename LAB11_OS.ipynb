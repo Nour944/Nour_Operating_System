{
 "cells": [
  {
   "cell_type": "code",
   "execution_count": null,
   "metadata": {},
   "outputs": [],
   "source": [
    "#Example 1: List all storage devices on Ubuntu\n",
    "import subprocess\n",
    "\n",
    "def list_storage_devices():\n",
    "  command = \"lsblk\"\n",
    "  result = subprocess.run (command, shell=True, stdout=subprocess.PIPE, text=True)\n",
    "  print(result.stdout)\n",
    "\n",
    "list_storage_devices()"
   ]
  },
  {
   "cell_type": "code",
   "execution_count": null,
   "metadata": {},
   "outputs": [],
   "source": [
    "#Example 2: Check available disk space on a specific storage device\n",
    "import subprocess\n",
    "\n",
    "def check_disk_space (device):\n",
    "  command = f\"df -h {device}\"\n",
    "  result = subprocess.run (command, shell=True, stdout=subprocess.PIPE, text=True)\n",
    "  print(result.stdout)\n",
    "\n",
    "check_disk_space(\"/dev/sda1\")\n",
    "     "
   ]
  },
  {
   "cell_type": "code",
   "execution_count": null,
   "metadata": {},
   "outputs": [],
   "source": [
    "#Example 3: Mount a storage device\n",
    "\n",
    "import subprocess\n",
    "\n",
    "def mount_device(device, mount_point):\n",
    "  command = f\"sudo mount {device} {mount_point}\"\n",
    "  result = subprocess.run (command, shell=True, stdout=subprocess.PIPE, text=True)\n",
    "  print(result.stdout)\n",
    "\n",
    "mount_device(\"/dev/sdb1\", \"/mnt/mydisk\")"
   ]
  },
  {
   "cell_type": "code",
   "execution_count": null,
   "metadata": {},
   "outputs": [],
   "source": [
    "#Example 4: Format a storage device (WARNING: Data loss can occur)\n",
    "import subprocess\n",
    "\n",
    "def format_device (device, tilesystem type):\n",
    "  command = f\"sudo mkfs.{filesystem_type} {device}\"\n",
    "  result = subprocess.run(command, shell=True, stdout=subprocess.PIPE, text=True)\n",
    "  print(result.stdout)\n",
    "\n",
    "#Be cautious when using this function, as it will erase data on the device.\n",
    "#format device(\"/dev/sdc1\", \"ext4\")"
   ]
  },
  {
   "cell_type": "code",
   "execution_count": null,
   "metadata": {},
   "outputs": [],
   "source": [
    "#Example 5: Unmount a storage device import subprocess\n",
    "import subprocess\n",
    "\n",
    "def unmount_device (mount_point):\n",
    "  command = f\"sudo umount {mount_point}\"\n",
    "  result = subprocess.run (command, shell=True, stdout=subprocess.PIPE, text=True)\n",
    "  print(result.stdout)\n",
    "\n",
    "unmount_device(\"/mnt/mydisk\")"
   ]
  },
  {
   "cell_type": "code",
   "execution_count": null,
   "metadata": {},
   "outputs": [],
   "source": [
    "#Example 6: List mounted storage devices\n",
    "import subprocess\n",
    "\n",
    "def list_mounted_devices():\n",
    "    # Run the 'mount' command with grep to list mounted storage devices and store the result\n",
    "    command = \"mount | grep '/dev/sd'\"\n",
    "    result = subprocess.run(command, shell=True, stdout=subprocess.PIPE, text=True)\n",
    "    # Print the output of the command\n",
    "    print(result.stdout)"
   ]
  },
  {
   "cell_type": "code",
   "execution_count": null,
   "metadata": {},
   "outputs": [],
   "source": [
    "#Example 7: Check disk usage of a directory\n",
    "import subprocess\n",
    "\n",
    "def check_directory_disk_usage(directory):\n",
    "    # Run the 'du' command to check disk usage of a directory and store the result\n",
    "    command = f\"du -sh {directory}\"\n",
    "    result = subprocess.run(command, shell=True, stdout=subprocess.PIPE, text=True)\n",
    "    # Print the output of the command\n",
    "    print(result.stdout)"
   ]
  },
  {
   "cell_type": "code",
   "execution_count": null,
   "metadata": {},
   "outputs": [],
   "source": [
    "#Example 8: Create a new directory\n",
    "import subprocess\n",
    "\n",
    "def create_directory(directory):\n",
    "    # Run the 'mkdir' command to create a new directory and store the result\n",
    "    command = f\"mkdir {directory}\"\n",
    "    result = subprocess.run(command, shell=True, stdout=subprocess.PIPE, text=True)\n",
    "    # Print the output of the command\n",
    "    print(result.stdout)"
   ]
  },
  {
   "cell_type": "code",
   "execution_count": null,
   "metadata": {},
   "outputs": [],
   "source": [
    "import subprocess\n",
    "\n",
    "# Example 9: Remove a directory (WARNING: Irreversible deletion)\n",
    "def remove_directory(directory):\n",
    "    # Run the 'rm' command to remove a directory (use with caution, irreversible) and store the result\n",
    "    command = f\"sudo rm -r {directory}\"\n",
    "    result = subprocess.run(command, shell=True, stdout=subprocess.PIPE, text=True)\n",
    "    # Print the output of the command\n",
    "    print(result.stdout)\n",
    "\n",
    "# Example 10: Get storage device information\n",
    "def get_device_info(device):\n",
    "    # Run the 'udevadm' command to get information about a device and store the result\n",
    "    command = f\"udevadm info -q property -n {device}\"\n",
    "    result = subprocess.run(command, shell=True, stdout=subprocess.PIPE, text=True)\n",
    "    # Print the output of the command\n",
    "    print(result. stdout)\n",
    "\n",
    "# Main test part (Usage of the functions)\n",
    "if __name__ == \"__main\":\n",
    "    # Test each function with appropriate parameters\n",
    "    list_storage_devices()\n",
    "    check_disk_space(\"/dev/sda1\")\n",
    "    mount_device(\"/dev/sdb1\", \"/mnt/mydisk\")\n",
    "\n",
    "    # Be cautious with the following line, as it erases data on the device\n",
    "    format_device(\"/dev/sdc1\", \"ext4\")\n",
    "\n",
    "    unmount_device(\"/mnt/mydisk\")\n",
    "    list_mounted_devices()\n",
    "    check_directory_disk_usage(\"/home/users/documents\")\n",
    "    create_directory(\"/tmp/new_directory\")\n",
    "\n",
    "    # Be cautious with the following line, as it's an irreversible deletion\n",
    "    #remove_directory(\"/tmp/new_directory\")\n",
    "    get_device_info(\"/dev/sda1\")"
   ]
  }
 ],
 "metadata": {
  "language_info": {
   "name": "python"
  },
  "orig_nbformat": 4
 },
 "nbformat": 4,
 "nbformat_minor": 2
}
